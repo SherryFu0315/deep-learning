{
  "nbformat": 4,
  "nbformat_minor": 0,
  "metadata": {
    "colab": {
      "name": "Deep RL Lab Session_full.ipynb",
      "version": "0.3.2",
      "provenance": []
    },
    "language_info": {
      "codemirror_mode": {
        "name": "ipython",
        "version": 3
      },
      "file_extension": ".py",
      "mimetype": "text/x-python",
      "name": "python",
      "nbconvert_exporter": "python",
      "pygments_lexer": "ipython3",
      "version": "3.7.3"
    },
    "kernelspec": {
      "display_name": "Python 3",
      "language": "python",
      "name": "python3"
    }
  },
  "cells": [
    {
      "cell_type": "markdown",
      "metadata": {
        "id": "5ROKQVmp7YGm",
        "colab_type": "text"
      },
      "source": [
        "Install Dependencies\n",
        "----------"
      ]
    },
    {
      "cell_type": "code",
      "metadata": {
        "scrolled": true,
        "id": "dv15uwsW7YGn",
        "colab_type": "code",
        "colab": {
          "base_uri": "https://localhost:8080/",
          "height": 289
        },
        "outputId": "bce8caf8-64f2-46fa-ecf1-27411fe399ee"
      },
      "source": [
        "!pip install cmake 'gym[atari]' scipy"
      ],
      "execution_count": 1,
      "outputs": [
        {
          "output_type": "stream",
          "text": [
            "Requirement already satisfied: cmake in /usr/local/lib/python3.6/dist-packages (3.12.0)\n",
            "Requirement already satisfied: gym[atari] in /usr/local/lib/python3.6/dist-packages (0.10.11)\n",
            "Requirement already satisfied: scipy in /usr/local/lib/python3.6/dist-packages (1.3.0)\n",
            "Requirement already satisfied: requests>=2.0 in /usr/local/lib/python3.6/dist-packages (from gym[atari]) (2.21.0)\n",
            "Requirement already satisfied: numpy>=1.10.4 in /usr/local/lib/python3.6/dist-packages (from gym[atari]) (1.16.3)\n",
            "Requirement already satisfied: six in /usr/local/lib/python3.6/dist-packages (from gym[atari]) (1.12.0)\n",
            "Requirement already satisfied: pyglet>=1.2.0 in /usr/local/lib/python3.6/dist-packages (from gym[atari]) (1.3.2)\n",
            "Requirement already satisfied: atari-py>=0.1.4; extra == \"atari\" in /usr/local/lib/python3.6/dist-packages (from gym[atari]) (0.1.7)\n",
            "Requirement already satisfied: PyOpenGL; extra == \"atari\" in /usr/local/lib/python3.6/dist-packages (from gym[atari]) (3.1.0)\n",
            "Requirement already satisfied: Pillow; extra == \"atari\" in /usr/local/lib/python3.6/dist-packages (from gym[atari]) (4.3.0)\n",
            "Requirement already satisfied: idna<2.9,>=2.5 in /usr/local/lib/python3.6/dist-packages (from requests>=2.0->gym[atari]) (2.8)\n",
            "Requirement already satisfied: chardet<3.1.0,>=3.0.2 in /usr/local/lib/python3.6/dist-packages (from requests>=2.0->gym[atari]) (3.0.4)\n",
            "Requirement already satisfied: certifi>=2017.4.17 in /usr/local/lib/python3.6/dist-packages (from requests>=2.0->gym[atari]) (2019.3.9)\n",
            "Requirement already satisfied: urllib3<1.25,>=1.21.1 in /usr/local/lib/python3.6/dist-packages (from requests>=2.0->gym[atari]) (1.24.3)\n",
            "Requirement already satisfied: future in /usr/local/lib/python3.6/dist-packages (from pyglet>=1.2.0->gym[atari]) (0.16.0)\n",
            "Requirement already satisfied: olefile in /usr/local/lib/python3.6/dist-packages (from Pillow; extra == \"atari\"->gym[atari]) (0.46)\n"
          ],
          "name": "stdout"
        }
      ]
    },
    {
      "cell_type": "code",
      "metadata": {
        "id": "fNDdtwwA7YGt",
        "colab_type": "code",
        "colab": {
          "base_uri": "https://localhost:8080/",
          "height": 51
        },
        "outputId": "23bbd674-fa45-401d-ff64-d6aff9979597"
      },
      "source": [
        "!pip install torch"
      ],
      "execution_count": 2,
      "outputs": [
        {
          "output_type": "stream",
          "text": [
            "Requirement already satisfied: torch in /usr/local/lib/python3.6/dist-packages (1.1.0)\n",
            "Requirement already satisfied: numpy in /usr/local/lib/python3.6/dist-packages (from torch) (1.16.3)\n"
          ],
          "name": "stdout"
        }
      ]
    },
    {
      "cell_type": "markdown",
      "metadata": {
        "id": "nrm1-ffu7YG1",
        "colab_type": "text"
      },
      "source": [
        "Import Dependencies\n",
        "----------"
      ]
    },
    {
      "cell_type": "code",
      "metadata": {
        "id": "c7EXs2vb7YG2",
        "colab_type": "code",
        "colab": {}
      },
      "source": [
        "import numpy as np\n",
        "from IPython.display import clear_output\n",
        "from time import sleep\n",
        "import random\n",
        "import gym"
      ],
      "execution_count": 0,
      "outputs": []
    },
    {
      "cell_type": "code",
      "metadata": {
        "id": "8Sci_23M7YG5",
        "colab_type": "code",
        "colab": {}
      },
      "source": [
        "from collections import namedtuple, deque\n",
        "from itertools import count\n",
        "import math\n",
        "import matplotlib\n",
        "import matplotlib.pyplot as plt\n",
        "%matplotlib inline\n",
        "import time\n",
        "import scipy.sparse.csgraph"
      ],
      "execution_count": 0,
      "outputs": []
    },
    {
      "cell_type": "code",
      "metadata": {
        "id": "VOZ0VKKP7YG7",
        "colab_type": "code",
        "colab": {}
      },
      "source": [
        "import torch\n",
        "import torch.nn as nn\n",
        "import torch.optim as optim\n",
        "import torch.nn.functional as F"
      ],
      "execution_count": 0,
      "outputs": []
    },
    {
      "cell_type": "markdown",
      "metadata": {
        "id": "zszvLEAQ7YHC",
        "colab_type": "text"
      },
      "source": [
        "## Taxi Gym Environment"
      ]
    },
    {
      "cell_type": "code",
      "metadata": {
        "id": "26xEZLZW7YHD",
        "colab_type": "code",
        "colab": {
          "base_uri": "https://localhost:8080/",
          "height": 153
        },
        "outputId": "72f5ce33-c808-4aea-8565-af71e760cd99"
      },
      "source": [
        "env = gym.make(\"Taxi-v2\").env\n",
        "\n",
        "env.render()"
      ],
      "execution_count": 6,
      "outputs": [
        {
          "output_type": "stream",
          "text": [
            "+---------+\n",
            "|\u001b[34;1mR\u001b[0m: | : :G|\n",
            "| : : : : |\n",
            "| : : : : |\n",
            "| | :\u001b[43m \u001b[0m| : |\n",
            "|\u001b[35mY\u001b[0m| : |B: |\n",
            "+---------+\n",
            "\n"
          ],
          "name": "stdout"
        }
      ]
    },
    {
      "cell_type": "markdown",
      "metadata": {
        "id": "5PSrfagM7YHJ",
        "colab_type": "text"
      },
      "source": [
        "- The filled square represents the taxi, which is yellow without a passenger and green with a passenger.\n",
        "- The pipe (\"|\") represents a wall which the taxi cannot cross.\n",
        "- R, G, Y, B are the possible pickup and destination locations. The blue letter represents the current passenger pick-up location, and the purple letter is the current destination."
      ]
    },
    {
      "cell_type": "code",
      "metadata": {
        "id": "inNxqB3g7YHL",
        "colab_type": "code",
        "colab": {
          "base_uri": "https://localhost:8080/",
          "height": 187
        },
        "outputId": "b615dabc-15ac-49e9-dac3-37bd786e8241"
      },
      "source": [
        "env.reset() # reset environment to a new, random state\n",
        "env.render()\n",
        "\n",
        "print(\"Action Space {}\".format(env.action_space))\n",
        "print(\"State Space {}\".format(env.observation_space))"
      ],
      "execution_count": 7,
      "outputs": [
        {
          "output_type": "stream",
          "text": [
            "+---------+\n",
            "|\u001b[35mR\u001b[0m: | : :G|\n",
            "| : : : : |\n",
            "| : : : : |\n",
            "| | : |\u001b[43m \u001b[0m: |\n",
            "|Y| : |\u001b[34;1mB\u001b[0m: |\n",
            "+---------+\n",
            "\n",
            "Action Space Discrete(6)\n",
            "State Space Discrete(500)\n"
          ],
          "name": "stdout"
        }
      ]
    },
    {
      "cell_type": "code",
      "metadata": {
        "id": "VBjmSyR-7YHX",
        "colab_type": "code",
        "colab": {
          "base_uri": "https://localhost:8080/",
          "height": 170
        },
        "outputId": "13b873e4-25bd-4301-ad84-865aa7a9ba43"
      },
      "source": [
        "state = env.encode(3, 1, 2, 0) # (taxi row, taxi column, passenger index, destination index)\n",
        "print(\"State:\", state)\n",
        "\n",
        "env.s = state\n",
        "env.render()"
      ],
      "execution_count": 8,
      "outputs": [
        {
          "output_type": "stream",
          "text": [
            "State: 328\n",
            "+---------+\n",
            "|\u001b[35mR\u001b[0m: | : :G|\n",
            "| : : : : |\n",
            "| : : : : |\n",
            "| |\u001b[43m \u001b[0m: | : |\n",
            "|\u001b[34;1mY\u001b[0m| : |B: |\n",
            "+---------+\n",
            "\n"
          ],
          "name": "stdout"
        }
      ]
    },
    {
      "cell_type": "markdown",
      "metadata": {
        "id": "Z-9VdS9C7YHc",
        "colab_type": "text"
      },
      "source": [
        "When the taxi contains the passenger, passenger index is 4"
      ]
    },
    {
      "cell_type": "code",
      "metadata": {
        "id": "2jZ8ofMU7YHc",
        "colab_type": "code",
        "colab": {
          "base_uri": "https://localhost:8080/",
          "height": 170
        },
        "outputId": "64b458e5-8428-4d2a-9860-ebb15ea706b1"
      },
      "source": [
        "state = env.encode(3, 1, 4, 0) # (taxi row, taxi column, passenger index, destination index)\n",
        "print(\"State:\", state)\n",
        "\n",
        "env.s = state\n",
        "env.render()"
      ],
      "execution_count": 9,
      "outputs": [
        {
          "output_type": "stream",
          "text": [
            "State: 336\n",
            "+---------+\n",
            "|\u001b[35mR\u001b[0m: | : :G|\n",
            "| : : : : |\n",
            "| : : : : |\n",
            "| |\u001b[42m_\u001b[0m: | : |\n",
            "|Y| : |B: |\n",
            "+---------+\n",
            "\n"
          ],
          "name": "stdout"
        }
      ]
    },
    {
      "cell_type": "markdown",
      "metadata": {
        "id": "jAkplF_I7YHg",
        "colab_type": "text"
      },
      "source": [
        "### Solve an episode yourself: \n",
        "Use the following actions:\n",
        "- 0 = south\n",
        "- 1 = north\n",
        "- 2 = east\n",
        "- 3 = west\n",
        "- 4 = pickup\n",
        "- 5 = dropoff"
      ]
    },
    {
      "cell_type": "code",
      "metadata": {
        "id": "RGM3zG6a7YHh",
        "colab_type": "code",
        "colab": {
          "base_uri": "https://localhost:8080/",
          "height": 153
        },
        "outputId": "5caa1ba2-a506-4728-ee00-e07cc63da11e"
      },
      "source": [
        "env.s = 328\n",
        "env.render()"
      ],
      "execution_count": 10,
      "outputs": [
        {
          "output_type": "stream",
          "text": [
            "+---------+\n",
            "|\u001b[35mR\u001b[0m: | : :G|\n",
            "| : : : : |\n",
            "| : : : : |\n",
            "| |\u001b[43m \u001b[0m: | : |\n",
            "|\u001b[34;1mY\u001b[0m| : |B: |\n",
            "+---------+\n",
            "\n"
          ],
          "name": "stdout"
        }
      ]
    },
    {
      "cell_type": "code",
      "metadata": {
        "id": "AqBDs4f-7YHq",
        "colab_type": "code",
        "colab": {
          "base_uri": "https://localhost:8080/",
          "height": 153
        },
        "outputId": "ca013ee6-39b4-4060-c451-d95c0923f77a"
      },
      "source": [
        "# Use Ctrl+Enter to take an action\n",
        "env.step(1)\n",
        "env.render()"
      ],
      "execution_count": 11,
      "outputs": [
        {
          "output_type": "stream",
          "text": [
            "+---------+\n",
            "|\u001b[35mR\u001b[0m: | : :G|\n",
            "| : : : : |\n",
            "| :\u001b[43m \u001b[0m: : : |\n",
            "| | : | : |\n",
            "|\u001b[34;1mY\u001b[0m| : |B: |\n",
            "+---------+\n",
            "  (North)\n"
          ],
          "name": "stdout"
        }
      ]
    },
    {
      "cell_type": "code",
      "metadata": {
        "id": "3_NBIFiH7YHt",
        "colab_type": "code",
        "colab": {
          "base_uri": "https://localhost:8080/",
          "height": 153
        },
        "outputId": "fcb081a0-8302-4535-d489-ed0094fa9f06"
      },
      "source": [
        "env.step(3)\n",
        "env.render()"
      ],
      "execution_count": 12,
      "outputs": [
        {
          "output_type": "stream",
          "text": [
            "+---------+\n",
            "|\u001b[35mR\u001b[0m: | : :G|\n",
            "| : : : : |\n",
            "|\u001b[43m \u001b[0m: : : : |\n",
            "| | : | : |\n",
            "|\u001b[34;1mY\u001b[0m| : |B: |\n",
            "+---------+\n",
            "  (West)\n"
          ],
          "name": "stdout"
        }
      ]
    },
    {
      "cell_type": "code",
      "metadata": {
        "id": "OXzDCd1tBO2k",
        "colab_type": "code",
        "colab": {
          "base_uri": "https://localhost:8080/",
          "height": 153
        },
        "outputId": "6dafdcb6-2ef0-45d4-af4a-118f1bfd11b0"
      },
      "source": [
        "env.step(0)\n",
        "env.render()"
      ],
      "execution_count": 13,
      "outputs": [
        {
          "output_type": "stream",
          "text": [
            "+---------+\n",
            "|\u001b[35mR\u001b[0m: | : :G|\n",
            "| : : : : |\n",
            "| : : : : |\n",
            "|\u001b[43m \u001b[0m| : | : |\n",
            "|\u001b[34;1mY\u001b[0m| : |B: |\n",
            "+---------+\n",
            "  (South)\n"
          ],
          "name": "stdout"
        }
      ]
    },
    {
      "cell_type": "code",
      "metadata": {
        "id": "MYc6dh6KBQUy",
        "colab_type": "code",
        "colab": {
          "base_uri": "https://localhost:8080/",
          "height": 153
        },
        "outputId": "22fc0fbf-a4fd-4a2c-cf87-d8def31f06ab"
      },
      "source": [
        "env.step(5)\n",
        "env.render()"
      ],
      "execution_count": 14,
      "outputs": [
        {
          "output_type": "stream",
          "text": [
            "+---------+\n",
            "|\u001b[35mR\u001b[0m: | : :G|\n",
            "| : : : : |\n",
            "| : : : : |\n",
            "|\u001b[43m \u001b[0m| : | : |\n",
            "|\u001b[34;1mY\u001b[0m| : |B: |\n",
            "+---------+\n",
            "  (Dropoff)\n"
          ],
          "name": "stdout"
        }
      ]
    },
    {
      "cell_type": "code",
      "metadata": {
        "id": "J0AQ6MPb7YHw",
        "colab_type": "code",
        "colab": {
          "base_uri": "https://localhost:8080/",
          "height": 51
        },
        "outputId": "f2694cce-f9ce-45c3-cf4f-44e30a007521"
      },
      "source": [
        "env.s = 328  # set environment to illustration's state\n",
        "\n",
        "epochs = 0\n",
        "penalties, reward = 0, 0\n",
        "\n",
        "frames = [] # for animation\n",
        "\n",
        "done = False\n",
        "\n",
        "while not done:\n",
        "    action = env.action_space.sample()\n",
        "    state, reward, done, info = env.step(action)\n",
        "\n",
        "    if reward == -10:\n",
        "        penalties += 1\n",
        "    \n",
        "    # Put each rendered frame into dict for animation\n",
        "    frames.append({\n",
        "        'frame': env.render(mode='ansi'),\n",
        "        'state': state,\n",
        "        'action': action,\n",
        "        'reward': reward\n",
        "        }\n",
        "    )\n",
        "\n",
        "    epochs += 1\n",
        "    \n",
        "    \n",
        "print(\"Timesteps taken: {}\".format(epochs))\n",
        "print(\"Penalties incurred: {}\".format(penalties))"
      ],
      "execution_count": 15,
      "outputs": [
        {
          "output_type": "stream",
          "text": [
            "Timesteps taken: 256\n",
            "Penalties incurred: 58\n"
          ],
          "name": "stdout"
        }
      ]
    },
    {
      "cell_type": "code",
      "metadata": {
        "id": "RnREzJnL7YH0",
        "colab_type": "code",
        "colab": {
          "base_uri": "https://localhost:8080/",
          "height": 238
        },
        "outputId": "22aa88fd-312b-434f-c8de-dff42c2732d1"
      },
      "source": [
        "def print_frames(frames):\n",
        "    for i, frame in enumerate(frames):\n",
        "        clear_output(wait=True)\n",
        "        print(frame['frame'].getvalue())\n",
        "        print(f\"Timestep: {i + 1}\")\n",
        "        print(f\"State: {frame['state']}\")\n",
        "        print(f\"Action: {frame['action']}\")\n",
        "        print(f\"Reward: {frame['reward']}\")\n",
        "        sleep(.1)\n",
        "        \n",
        "print_frames(frames)"
      ],
      "execution_count": 16,
      "outputs": [
        {
          "output_type": "stream",
          "text": [
            "+---------+\n",
            "|\u001b[35m\u001b[34;1m\u001b[43mR\u001b[0m\u001b[0m\u001b[0m: | : :G|\n",
            "| : : : : |\n",
            "| : : : : |\n",
            "| | : | : |\n",
            "|Y| : |B: |\n",
            "+---------+\n",
            "  (Dropoff)\n",
            "\n",
            "Timestep: 256\n",
            "State: 0\n",
            "Action: 5\n",
            "Reward: 20\n"
          ],
          "name": "stdout"
        }
      ]
    },
    {
      "cell_type": "code",
      "metadata": {
        "id": "piGWiRC57YH5",
        "colab_type": "code",
        "colab": {}
      },
      "source": [
        ""
      ],
      "execution_count": 0,
      "outputs": []
    },
    {
      "cell_type": "markdown",
      "metadata": {
        "id": "wtll31An7YH_",
        "colab_type": "text"
      },
      "source": [
        "# Q-Learning\n",
        "Our environment is deterministic, so all equations presented here are\n",
        "also formulated deterministically for the sake of simplicity. In the\n",
        "reinforcement learning literature, they would also contain expectations\n",
        "over stochastic transitions in the environment.\n",
        "\n",
        "Our aim will be to train a policy that tries to maximize the discounted,\n",
        "cumulative reward\n",
        "$R_{t_0} = \\sum_{t=t_0}^{\\infty} \\gamma^{t - t_0} r_t$, where\n",
        "$R_{t_0}$ is also known as the *return*. The discount,\n",
        "$\\gamma$, should be a constant between $0$ and $1$\n",
        "that ensures the sum converges. It makes rewards from the uncertain far\n",
        "future less important for our agent than the ones in the near future\n",
        "that it can be fairly confident about.\n",
        "\n",
        "The main idea behind Q-learning is that if we had a function\n",
        "$Q^*: State \\times Action \\rightarrow \\mathbb{R}$, that could tell\n",
        "us what our return would be, if we were to take an action in a given\n",
        "state, then we could easily construct a policy that maximizes our\n",
        "rewards:\n",
        "\n",
        "\\begin{align}\\pi^*(s) = \\arg\\!\\max_a \\ Q^*(s, a)\\end{align}\n",
        "\n",
        "However, we don't know everything about the world, so we don't have\n",
        "access to $Q^*$."
      ]
    },
    {
      "cell_type": "markdown",
      "metadata": {
        "id": "6qQXnfBC7YIF",
        "colab_type": "text"
      },
      "source": [
        "# Tabular Q-Learning\n",
        "\n",
        "We use a table to represent $Q*$. Q-values are initialized to an arbitrary value, and as the agent exposes itself to the environment and receives different rewards by executing different actions, the Q-values are updated using the equation:\n",
        "\n",
        "$Q (s_t, a_t)←(1−α)*Q(s_t,a_t) + α*(r_t + γ*max_a Q(s_{t+1}, a))$\n",
        "\n",
        "Where:\n",
        "\n",
        "- $α$ (alpha) is the learning rate ($0<α≤1$) - Just like in supervised learning settings, α is the extent to which our Q-values are being updated in every iteration.\n",
        "\n",
        "- $γ$ (gamma) is the discount factor ($0≤γ≤1$) - determines how much importance we want to give to future rewards. A high value for the discount factor (close to 1) captures the long-term effective award, whereas, a discount factor of 0 makes our agent consider only immediate reward, hence making it greedy."
      ]
    },
    {
      "cell_type": "markdown",
      "metadata": {
        "id": "dnwfKeK-7YIG",
        "colab_type": "text"
      },
      "source": [
        "Tabular Q-Learning steps\n",
        "- Initialize the Q-table by all zeros.\n",
        "- Start exploring actions: For each state, select any one among all possible actions for the current state (S).\n",
        "- Travel to the next state (S') as a result of that action (a).\n",
        "- For all possible actions from the state (S') select the one with the highest Q-value.\n",
        "- Update Q-table values using the equation.\n",
        "- Set the next state as the current state.\n",
        "- If goal state is reached, then end and repeat the process.\n",
        "\n",
        "Exploiting learned values:\n",
        "After enough random exploration of actions, the Q-values tend to converge serving our agent as an action-value function which it can exploit to pick the most optimal action from a given state.\n",
        "\n",
        "There's a tradeoff between exploration (choosing a random action) and exploitation (choosing actions based on already learned Q-values). We want to prevent the action from always taking the same route, and possibly overfitting, so we'll be introducing another parameter called $ϵ$ \"epsilon\" to cater to this during training.\n",
        "\n",
        "Instead of just selecting the best learned Q-value action, we'll sometimes favor exploring the action space further. Lower epsilon value results in episodes with more penalties (on average) which is obvious because we are exploring and making random decisions."
      ]
    },
    {
      "cell_type": "code",
      "metadata": {
        "id": "HIB-dNWb7YIH",
        "colab_type": "code",
        "colab": {}
      },
      "source": [
        "q_table = np.zeros([env.observation_space.n, env.action_space.n])"
      ],
      "execution_count": 0,
      "outputs": []
    },
    {
      "cell_type": "code",
      "metadata": {
        "id": "Ft3GnIfN7YIK",
        "colab_type": "code",
        "colab": {
          "base_uri": "https://localhost:8080/",
          "height": 102
        },
        "outputId": "ff2e8442-7638-4522-999f-42e8cee1b92c"
      },
      "source": [
        "%%time\n",
        "\"\"\"Training the agent\"\"\"\n",
        "\n",
        "max_episode_length = 500\n",
        "num_training_episodes = 1000\n",
        "\n",
        "# Hyperparameters\n",
        "alpha = 0.1\n",
        "gamma = 0.6\n",
        "epsilon = 0.1\n",
        "\n",
        "# For plotting metrics\n",
        "all_epochs = []\n",
        "all_penalties = []\n",
        "\n",
        "for i in range(1, num_training_episodes+1):\n",
        "    state = env.reset()\n",
        "\n",
        "    epochs, penalties, reward, = 0, 0, 0\n",
        "    done = False\n",
        "    \n",
        "    for _ in range(max_episode_length):\n",
        "        \n",
        "        ### Write code to sample action\n",
        "        if random.uniform(0, 1) < epsilon:\n",
        "            ## Explore\n",
        "            action = env.action_space.sample()\n",
        "        else:\n",
        "            ## Exploit\n",
        "            action = np.argmax(q_table[state])\n",
        "\n",
        "        reward += get_shaped_reward(env.decode(prev_state.numpy()), env.decode(state)) # after adding reward shaping, the performance is still not good. Because it needs to share new info in each iteration stage\n",
        "        # need to reach out of the states and bootstrap\n",
        "        next_state, reward, done, info = env.step(action)\n",
        "        \n",
        "        ### Write Q-Learning update equations\n",
        "        old_value = q_table[state, action]\n",
        "        new_value = (1 - alpha) * old_value + alpha*(reward + gamma * np.max(q_table[next_state]))\n",
        "        q_table[state, action] = new_value\n",
        "\n",
        "        if reward == -10:\n",
        "            penalties += 1\n",
        "\n",
        "        state = next_state\n",
        "        epochs += 1\n",
        "        \n",
        "        if done:\n",
        "            break\n",
        "        \n",
        "    if i % 100 == 0:\n",
        "        clear_output(wait=True)\n",
        "        print(f\"Episode: {i}\")\n",
        "\n",
        "print(\"Training finished.\\n\")"
      ],
      "execution_count": 46,
      "outputs": [
        {
          "output_type": "stream",
          "text": [
            "Episode: 1000\n",
            "Training finished.\n",
            "\n",
            "CPU times: user 6.5 s, sys: 41 ms, total: 6.54 s\n",
            "Wall time: 6.51 s\n"
          ],
          "name": "stdout"
        }
      ]
    },
    {
      "cell_type": "code",
      "metadata": {
        "id": "dstxJFop7YIN",
        "colab_type": "code",
        "colab": {
          "base_uri": "https://localhost:8080/",
          "height": 51
        },
        "outputId": "22f6216f-6998-4179-9e37-4c26eb89cc3e"
      },
      "source": [
        "q_table[328]"
      ],
      "execution_count": 47,
      "outputs": [
        {
          "output_type": "execute_result",
          "data": {
            "text/plain": [
              "array([-2.32350668, -2.32069885, -2.32405342, -2.32270488, -5.71311619,\n",
              "       -6.33258433])"
            ]
          },
          "metadata": {
            "tags": []
          },
          "execution_count": 47
        }
      ]
    },
    {
      "cell_type": "code",
      "metadata": {
        "id": "PEP_8OwQ7YIR",
        "colab_type": "code",
        "colab": {
          "base_uri": "https://localhost:8080/",
          "height": 85
        },
        "outputId": "739e4632-932d-4c40-e3c3-2771c9599b43"
      },
      "source": [
        "\"\"\"Evaluate agent's performance after Q-learning\"\"\"\n",
        "max_episode_length = 500\n",
        "total_epochs, total_penalties, total_reward = 0., 0., 0.\n",
        "episodes = 100\n",
        "\n",
        "for _ in range(episodes):\n",
        "    state = env.reset()\n",
        "    epochs, penalties, reward = 0, 0, 0\n",
        "    \n",
        "    done = False\n",
        "    eps_reward = 0.\n",
        "    \n",
        "    for _ in range(max_episode_length):\n",
        "        action = np.argmax(q_table[state])\n",
        "        state, reward, done, info = env.step(action)\n",
        "        \n",
        "        eps_reward += reward\n",
        "\n",
        "        if reward == -10:\n",
        "            penalties += 1\n",
        "\n",
        "        epochs += 1\n",
        "        \n",
        "        if done:\n",
        "            break\n",
        "        \n",
        "    \n",
        "    total_reward += eps_reward\n",
        "    total_penalties += penalties\n",
        "    total_epochs += epochs\n",
        "\n",
        "print(f\"Results after {episodes} episodes:\")\n",
        "print(f\"Average timesteps per episode: {total_epochs / episodes}\")\n",
        "print(f\"Average reward per episode: {total_reward / episodes}\")\n",
        "print(f\"Average penalties per episode: {total_penalties / episodes}\")"
      ],
      "execution_count": 48,
      "outputs": [
        {
          "output_type": "stream",
          "text": [
            "Results after 100 episodes:\n",
            "Average timesteps per episode: 348.09\n",
            "Average reward per episode: -341.58\n",
            "Average penalties per episode: 0.0\n"
          ],
          "name": "stdout"
        }
      ]
    },
    {
      "cell_type": "code",
      "metadata": {
        "id": "Vv81xklmLJWk",
        "colab_type": "code",
        "colab": {}
      },
      "source": [
        "# small action space, works well; but when actions are more, there are more info needed to be shared among the states. So we want to use deep-Q learning\n",
        "# policy and off-policy, policy gradients could help. For unpolicy, give examples and then estimate easily"
      ],
      "execution_count": 0,
      "outputs": []
    },
    {
      "cell_type": "markdown",
      "metadata": {
        "id": "W976qKRH7YIb",
        "colab_type": "text"
      },
      "source": [
        "# Deep Q-Learning\n",
        "Now, we train a neural network to resemble $Q^*$.\n",
        "\n",
        "For our training update rule, we'll use a fact that every $Q$\n",
        "function for some policy obeys the Bellman equation:\n",
        "\n",
        "\\begin{align}Q^{\\pi}(s, a) = r + \\gamma Q^{\\pi}(s', \\pi(s'))\\end{align}\n",
        "\n",
        "The difference between the two sides of the equality is known as the\n",
        "temporal difference error, $\\delta$:\n",
        "\n",
        "\\begin{align}\\delta = Q(s, a) - (r + \\gamma \\max_a Q(s', a))\\end{align}\n",
        "\n",
        "To minimise this error, we will use the [Huber Loss](https://en.wikipedia.org/wiki/Huber_loss).\n",
        "The Huber loss acts\n",
        "like the mean squared error when the error is small, but like the mean\n",
        "absolute error when the error is large - this makes it more robust to\n",
        "outliers when the estimates of $Q$ are very noisy. We calculate\n",
        "this over a batch of transitions, $B$, sampled from the replay\n",
        "memory:\n",
        "\n",
        "\\begin{align}\\mathcal{L} = \\frac{1}{|B|}\\sum_{(s, a, s', r) \\ \\in \\ B} \\mathcal{L}(\\delta)\\end{align}\n",
        "\n",
        "\\begin{align}\\text{where} \\quad \\mathcal{L}(\\delta) = \\begin{cases}\n",
        "     \\frac{1}{2}{\\delta^2}  & \\text{for } |\\delta| \\le 1, \\\\\n",
        "     |\\delta| - \\frac{1}{2} & \\text{otherwise.}\n",
        "   \\end{cases}\\end{align}\n",
        "\n",
        "\n",
        "#### Q-network\n",
        "Our model will be a neural network that takes in the state as input and outputs the Q-value for each action in that state. In effect, the network is trying to predict the *expected return* of\n",
        "taking each action given the current input."
      ]
    },
    {
      "cell_type": "code",
      "metadata": {
        "id": "7X6LgeeC7YIc",
        "colab_type": "code",
        "colab": {}
      },
      "source": [
        "Transition = namedtuple('Transition',\n",
        "                        ('state', 'action', 'next_state', 'reward'))\n",
        "\n",
        "\n",
        "class ReplayMemory(object):\n",
        "\n",
        "    def __init__(self, capacity):\n",
        "        self.capacity = capacity\n",
        "        self.memory = []\n",
        "        self.position = 0\n",
        "\n",
        "    def push(self, *args):\n",
        "        \"\"\"Saves a transition.\"\"\"\n",
        "        if len(self.memory) < self.capacity:\n",
        "            self.memory.append(None)\n",
        "        self.memory[self.position] = Transition(*args)\n",
        "        self.position = (self.position + 1) % self.capacity\n",
        "\n",
        "    def sample(self, batch_size):\n",
        "        return random.sample(self.memory, batch_size)\n",
        "\n",
        "    def __len__(self):\n",
        "        return len(self.memory)"
      ],
      "execution_count": 0,
      "outputs": []
    },
    {
      "cell_type": "code",
      "metadata": {
        "id": "WT6O7uik7YIg",
        "colab_type": "code",
        "colab": {}
      },
      "source": [
        "class DQN(nn.Module):\n",
        "\n",
        "    def __init__(self, input_size, output_size):\n",
        "        super(DQN, self).__init__()\n",
        "        self.embedding = nn.Embedding(input_size, 64) # first layer, convert into 64 vector\n",
        "        self.linear1 = nn.Linear(64, 64) # another layer\n",
        "        self.linear2 = nn.Linear(64, output_size) # last output layer\n",
        "\n",
        "    def forward(self, x):\n",
        "        x = nn.ReLU()(self.embedding(x))\n",
        "        x = nn.ReLU()(self.linear1(x))\n",
        "        x = self.linear2(x)\n",
        "        return x"
      ],
      "execution_count": 0,
      "outputs": []
    },
    {
      "cell_type": "code",
      "metadata": {
        "id": "1VS5uazw7YIj",
        "colab_type": "code",
        "colab": {}
      },
      "source": [
        "steps_done = 0\n",
        "\n",
        "def select_action(state):\n",
        "    global steps_done\n",
        "    sample = random.random()\n",
        "    eps_threshold = EPS_END + (EPS_START - EPS_END) * \\\n",
        "        math.exp(-1. * steps_done / EPS_DECAY)\n",
        "    steps_done += 1\n",
        "    if sample > eps_threshold:\n",
        "        with torch.no_grad():\n",
        "            # t.max(1) will return largest column value of each row.\n",
        "            # second column on max result is index of where max element was\n",
        "            # found, so we pick action with the larger expected reward.\n",
        "            return policy_net(state).max(1)[1].view(1, 1)\n",
        "    else:\n",
        "        return torch.tensor([[random.randrange(env.action_space.n)]], dtype=torch.long)\n",
        "\n",
        "\n",
        "def plot(stat, averaging_size):\n",
        "    durations_t = torch.tensor(stat, dtype=torch.float)\n",
        "    if len(durations_t) >= averaging_size:\n",
        "        means = durations_t.unfold(0, averaging_size, 1).mean(1).view(-1)\n",
        "        plt.figure(2)\n",
        "        plt.clf()\n",
        "        plt.title('Training...')\n",
        "        plt.xlabel('Episode')\n",
        "        plt.ylabel('Duration')\n",
        "        plt.ylim(-10, 510)\n",
        "        plt.plot(means.numpy())\n",
        "\n",
        "    plt.pause(0.00001)"
      ],
      "execution_count": 0,
      "outputs": []
    },
    {
      "cell_type": "code",
      "metadata": {
        "id": "fyActHw37YIq",
        "colab_type": "code",
        "colab": {}
      },
      "source": [
        "def optimize_model():\n",
        "    if len(memory) < BATCH_SIZE:\n",
        "        return\n",
        "    transitions = memory.sample(BATCH_SIZE)\n",
        "    # Transpose the batch (see https://stackoverflow.com/a/19343/3343043 for\n",
        "    # detailed explanation). This converts batch-array of Transitions\n",
        "    # to Transition of batch-arrays.\n",
        "    batch = Transition(*zip(*transitions))\n",
        "\n",
        "    # Compute a mask of non-final states and concatenate the batch elements\n",
        "    # (a final state would've been the one after which simulation ended)\n",
        "    non_final_mask = torch.tensor(tuple(map(lambda s: s is not None,\n",
        "                                          batch.next_state)), dtype=torch.uint8)\n",
        "    non_final_next_states = torch.cat([s for s in batch.next_state\n",
        "                                                if s is not None])\n",
        "    state_batch = torch.cat(batch.state)\n",
        "    action_batch = torch.cat(batch.action)\n",
        "    reward_batch = torch.cat(batch.reward)\n",
        "\n",
        "    # Compute Q(s_t, a) - the model computes Q(s_t), then we select the\n",
        "    # columns of actions taken. These are the actions which would've been taken\n",
        "    # for each batch state according to policy_net\n",
        "    state_action_values = policy_net(state_batch)\n",
        "    state_action_values = state_action_values.gather(1, action_batch)\n",
        "\n",
        "    # Compute V(s_{t+1}) for all next states.\n",
        "    # Expected values of actions for non_final_next_states are computed based\n",
        "    # on the \"older\" target_net; selecting their best reward with max(1)[0].\n",
        "    # This is merged based on the mask, such that we'll have either the expected\n",
        "    # state value or 0 in case the state was final.\n",
        "    next_state_values = torch.zeros(BATCH_SIZE)\n",
        "    next_state_values[non_final_mask] = target_net(non_final_next_states).max(1)[0]\n",
        "    next_state_values = next_state_values.detach()\n",
        "    \n",
        "    # Compute the expected Q values\n",
        "    expected_state_action_values = (next_state_values*GAMMA) + reward_batch\n",
        "\n",
        "    # Compute Huber loss\n",
        "    loss = F.smooth_l1_loss(state_action_values, expected_state_action_values.unsqueeze(1))\n",
        "\n",
        "    # Optimize the model\n",
        "    optimizer.zero_grad()\n",
        "    loss.backward()\n",
        "    for param in policy_net.parameters():\n",
        "        param.grad.data.clamp_(-1, 1)\n",
        "    optimizer.step()\n",
        "    return loss.item()"
      ],
      "execution_count": 0,
      "outputs": []
    },
    {
      "cell_type": "code",
      "metadata": {
        "id": "_crj_z057YIv",
        "colab_type": "code",
        "colab": {
          "base_uri": "https://localhost:8080/",
          "height": 312
        },
        "outputId": "5b616f6a-d247-44e4-bb85-b7637b40727a"
      },
      "source": [
        "num_episodes = 100\n",
        "max_episode_length = 500\n",
        "\n",
        "BATCH_SIZE = 128\n",
        "GAMMA = 0.999\n",
        "EPS_START = 1.0\n",
        "EPS_END = 0.05\n",
        "EPS_DECAY = 5000\n",
        "TARGET_UPDATE = 10000\n",
        "LEARNING_RATE = 0.005\n",
        "\n",
        "policy_net = DQN(env.observation_space.n, env.action_space.n)\n",
        "target_net = DQN(env.observation_space.n, env.action_space.n)\n",
        "target_net.load_state_dict(policy_net.state_dict())\n",
        "target_net.eval()\n",
        "\n",
        "optimizer = optim.RMSprop(policy_net.parameters(), lr=LEARNING_RATE)\n",
        "memory = ReplayMemory(10000)\n",
        "\n",
        "steps_done = 0\n",
        "episode_durations = []\n",
        "\n",
        "losses = deque(maxlen=10000)\n",
        "eps_rewards = deque(maxlen=100)\n",
        "successes = deque(maxlen=100)\n",
        "\n",
        "for i_episode in range(num_episodes):\n",
        "    # Initialize the environment and state\n",
        "    state = env.reset()\n",
        "    state = torch.tensor([state])\n",
        "    eps_reward = 0\n",
        "    for t in range(max_episode_length):\n",
        "        # Select and perform an action\n",
        "        prev_state = state\n",
        "        action = select_action(state)\n",
        "        state, reward, done, _ = env.step(action.item())\n",
        "#         reward += get_shaped_reward(env.decode(prev_state.numpy()), env.decode(state))\n",
        "\n",
        "        #Reward Normalization\n",
        "        reward /= 20.0 \n",
        "        \n",
        "        state = torch.tensor([state])\n",
        "        eps_reward += reward\n",
        "        reward = torch.tensor([reward]).float()\n",
        "\n",
        "        if not done:\n",
        "            next_state = state \n",
        "        else:\n",
        "            next_state = None\n",
        "\n",
        "        # Store the transition in memory\n",
        "        memory.push(prev_state, action, next_state, reward)\n",
        "\n",
        "        # Move to the next state\n",
        "        state = next_state\n",
        "\n",
        "        # Perform one step of the optimization (on the target network)\n",
        "        loss = optimize_model()\n",
        "        if loss is not None:\n",
        "            losses.append(loss)\n",
        "        if done:\n",
        "            break\n",
        "            \n",
        "    if reward > 0.75:\n",
        "        successes.append(1.)\n",
        "    else:\n",
        "        successes.append(0.)\n",
        "    \n",
        "    eps_rewards.append(eps_reward)\n",
        "    clear_output(wait=True)\n",
        "    print(\"Episode: {}, Mean Reward: {:.3f}, Mean Loss: {:.3f}, Success Rate: {:.3f} ({:d})\".format(\n",
        "            i_episode, np.mean(eps_rewards), np.mean(losses), np.mean(successes), len(successes)))\n",
        "    \n",
        "    episode_durations.append(t + 1)\n",
        "    plot(episode_durations, 10)\n",
        "    time.sleep(0.0001)\n",
        "    # Update the target network, copying all weights and biases in DQN\n",
        "    if i_episode % TARGET_UPDATE == 0:\n",
        "        target_net.load_state_dict(policy_net.state_dict())"
      ],
      "execution_count": 28,
      "outputs": [
        {
          "output_type": "stream",
          "text": [
            "Episode: 99, Mean Reward: -35.670, Mean Loss: 0.000, Success Rate: 0.000 (100)\n"
          ],
          "name": "stdout"
        },
        {
          "output_type": "display_data",
          "data": {
            "image/png": "[encoded data removed]",
            "text/plain": [
              "<Figure size 432x288 with 1 Axes>"
            ]
          },
          "metadata": {
            "tags": []
          }
        }
      ]
    },
    {
      "cell_type": "code",
      "metadata": {
        "id": "3-HBp-KLHDov",
        "colab_type": "code",
        "colab": {}
      },
      "source": [
        "# the model will not perform well, it needs much much more data"
      ],
      "execution_count": 0,
      "outputs": []
    },
    {
      "cell_type": "markdown",
      "metadata": {
        "id": "pBYx8FP17YI4",
        "colab_type": "text"
      },
      "source": [
        "## Reward Shaping"
      ]
    },
    {
      "cell_type": "code",
      "metadata": {
        "id": "m0TfcWHE7YI5",
        "colab_type": "code",
        "colab": {}
      },
      "source": [
        "# find the shortest path\n",
        "\n",
        "def compute_full_distances_fast(grid):\n",
        "    \"\"\"\n",
        "    Input:\n",
        "        `grid`: maze plan of shape (m, n)\n",
        "    Output:\n",
        "        `distances`: distances between each position in the grid (m, n, m, n)\n",
        "    \"\"\"\n",
        "    # compute valid positions\n",
        "    m, n = grid.shape\n",
        "    distances = np.zeros((m, n, m, n), dtype=np.int32) + m * n\n",
        "    valid = [(i, j) for i in range(m) for j in range(n) if grid[i, j] == 0]\n",
        "\n",
        "    # initialize distances: 0 to self, 1 to adjacent squares\n",
        "    for i1, j1 in valid:\n",
        "        distances[i1, j1, i1, j1] = 0  # distance to self\n",
        "        for i2, j2 in [(i1 - 1, j1), (i1 + 1, j1), (i1, j1 - 1), (i1, j1 + 1)]:\n",
        "            if 0 <= i2 < m and 0 <= j2 < n and grid[i2, j2] == 0:\n",
        "                distances[i1, j1, i2, j2] = 1  # distance to neighbors\n",
        "\n",
        "    distances = scipy.sparse.csgraph.floyd_warshall(distances.reshape(m * n, m * n), directed=False)\n",
        "    distances = distances.reshape((m, n, m, n)).astype(np.int32)\n",
        "\n",
        "    return distances"
      ],
      "execution_count": 0,
      "outputs": []
    },
    {
      "cell_type": "code",
      "metadata": {
        "id": "fUVpf9Zi7YI7",
        "colab_type": "code",
        "colab": {}
      },
      "source": [
        "grid = np.zeros((11, 11))\n",
        "grid[0,:] = 1\n",
        "grid[-1,:] = 1\n",
        "grid[:,0] = 1\n",
        "grid[:,-1] = 1\n",
        "grid[6:,2] = 1\n",
        "grid[6:,6] = 1\n",
        "grid[:3,4] = 1\n",
        "\n",
        "distances = compute_full_distances_fast(grid)"
      ],
      "execution_count": 0,
      "outputs": []
    },
    {
      "cell_type": "code",
      "metadata": {
        "id": "oPNHAnypH05S",
        "colab_type": "code",
        "colab": {
          "base_uri": "https://localhost:8080/",
          "height": 286
        },
        "outputId": "db030c7c-db19-4a04-ad87-338db434626f"
      },
      "source": [
        "plt.imshow(grid)"
      ],
      "execution_count": 31,
      "outputs": [
        {
          "output_type": "execute_result",
          "data": {
            "text/plain": [
              "<matplotlib.image.AxesImage at 0x7fa624a94278>"
            ]
          },
          "metadata": {
            "tags": []
          },
          "execution_count": 31
        },
        {
          "output_type": "display_data",
          "data": {
            "image/png": "[encoded data removed]",
            "text/plain": [
              "<Figure size 432x288 with 1 Axes>"
            ]
          },
          "metadata": {
            "tags": []
          }
        }
      ]
    },
    {
      "cell_type": "code",
      "metadata": {
        "id": "8sANLe8cIV5k",
        "colab_type": "code",
        "colab": {}
      },
      "source": [
        "distances[distances > 40] = 0"
      ],
      "execution_count": 0,
      "outputs": []
    },
    {
      "cell_type": "code",
      "metadata": {
        "id": "OBmtBnyXIEuR",
        "colab_type": "code",
        "colab": {
          "base_uri": "https://localhost:8080/",
          "height": 286
        },
        "outputId": "9f0c9d5a-6780-40be-b93f-085d0d33381d"
      },
      "source": [
        "plt.imshow(distances[3,2])"
      ],
      "execution_count": 39,
      "outputs": [
        {
          "output_type": "execute_result",
          "data": {
            "text/plain": [
              "<matplotlib.image.AxesImage at 0x7fa62459a1d0>"
            ]
          },
          "metadata": {
            "tags": []
          },
          "execution_count": 39
        },
        {
          "output_type": "display_data",
          "data": {
            "image/png": "[encoded data removed]",
            "text/plain": [
              "<Figure size 432x288 with 1 Axes>"
            ]
          },
          "metadata": {
            "tags": []
          }
        }
      ]
    },
    {
      "cell_type": "code",
      "metadata": {
        "id": "46lFz0IQ7YJA",
        "colab_type": "code",
        "colab": {}
      },
      "source": [
        "def get_shaped_reward(prev_state, state):\n",
        "    if prev_state is None:\n",
        "        return 0\n",
        "    s = []\n",
        "    for i in prev_state:\n",
        "        s.append(i)\n",
        "    x1, y1 = s[0], s[1]\n",
        "    if s[2] == 4:\n",
        "        goal = s[3]\n",
        "    else:\n",
        "        goal = s[2]\n",
        "        \n",
        "    ps = []\n",
        "    for i in state:\n",
        "        ps.append(i)\n",
        "    x2, y2 = ps[0], ps[1]\n",
        "    \n",
        "    if goal == 0:\n",
        "        gx, gy = 0, 0\n",
        "    elif goal == 1:\n",
        "        gx, gy = 0, 4\n",
        "    elif goal == 2:\n",
        "        gx, gy = 4, 0\n",
        "    elif goal == 3:\n",
        "        gx, gy = 4, 3\n",
        "    \n",
        "    gx = 2*gx + 1\n",
        "    gy = 2*gy + 1\n",
        "    x1 = 2*x1 + 1\n",
        "    x2 = 2*x2 + 1\n",
        "    y1 = 2*y1 + 1\n",
        "    y2 = 2*y2 + 1\n",
        "    \n",
        "    prev_dist = distances[gx,gy][x1,y1]\n",
        "    dist = distances[gx,gy][x2,y2]\n",
        "    \n",
        "    if prev_dist > dist:\n",
        "        return 6.\n",
        "    else:\n",
        "        return -4."
      ],
      "execution_count": 0,
      "outputs": []
    },
    {
      "cell_type": "code",
      "metadata": {
        "id": "9Co4_v1T7YJF",
        "colab_type": "code",
        "colab": {
          "base_uri": "https://localhost:8080/",
          "height": 312
        },
        "outputId": "0d58da55-a819-41a6-aaa5-f9e6b4321888"
      },
      "source": [
        "num_episodes = 100\n",
        "max_episode_length = 500\n",
        "BATCH_SIZE = 128\n",
        "GAMMA = 0.999\n",
        "EPS_START = 1.0\n",
        "EPS_END = 0.05\n",
        "EPS_DECAY = 5000\n",
        "TARGET_UPDATE = 10000\n",
        "LEARNING_RATE = 0.005\n",
        "\n",
        "policy_net = DQN(env.observation_space.n, env.action_space.n)\n",
        "target_net = DQN(env.observation_space.n, env.action_space.n)\n",
        "target_net.load_state_dict(policy_net.state_dict())\n",
        "target_net.eval()\n",
        "\n",
        "optimizer = optim.RMSprop(policy_net.parameters(), lr=LEARNING_RATE)\n",
        "memory = ReplayMemory(10000)\n",
        "\n",
        "steps_done = 0\n",
        "episode_durations = []\n",
        "\n",
        "losses = deque(maxlen=10000)\n",
        "eps_rewards = deque(maxlen=100)\n",
        "successes = deque(maxlen=100)\n",
        "\n",
        "for i_episode in range(num_episodes):\n",
        "    # Initialize the environment and state\n",
        "    state = env.reset()\n",
        "    state = torch.tensor([state])\n",
        "    eps_reward = 0\n",
        "    for t in range(max_episode_length):\n",
        "        # Select and perform an action\n",
        "        prev_state = state\n",
        "        action = select_action(state)\n",
        "        state, reward, done, _ = env.step(action.item())\n",
        "        reward += get_shaped_reward(env.decode(prev_state.numpy()), env.decode(state))\n",
        "        reward /= 20.0\n",
        "        state = torch.tensor([state])\n",
        "        eps_reward += reward\n",
        "        reward = torch.tensor([reward]).float()\n",
        "\n",
        "        if not done:\n",
        "            next_state = state \n",
        "        else:\n",
        "            next_state = None\n",
        "\n",
        "        # Store the transition in memory\n",
        "        memory.push(prev_state, action, next_state, reward)\n",
        "\n",
        "        # Move to the next state\n",
        "        state = next_state\n",
        "\n",
        "        # Perform one step of the optimization (on the target network)\n",
        "        loss = optimize_model()\n",
        "        if loss is not None:\n",
        "            losses.append(loss)\n",
        "        if done:\n",
        "            break\n",
        "            \n",
        "    if reward > 0.75:\n",
        "        successes.append(1.)\n",
        "    else:\n",
        "        successes.append(0.)\n",
        "    \n",
        "    eps_rewards.append(eps_reward)\n",
        "    clear_output(wait=True)\n",
        "    print(\"Episode: {}, Mean Reward: {:.3f}, Mean Loss: {:.3f}, Success Rate: {:.3f} ({:d})\".format(\n",
        "            i_episode, np.mean(eps_rewards), np.mean(losses), np.mean(successes), len(successes)))\n",
        "    \n",
        "    episode_durations.append(t + 1)\n",
        "    plot(episode_durations, 10)\n",
        "    time.sleep(0.0001)\n",
        "    # Update the target network, copying all weights and biases in DQN\n",
        "    if i_episode % TARGET_UPDATE == 0:\n",
        "        target_net.load_state_dict(policy_net.state_dict())"
      ],
      "execution_count": 42,
      "outputs": [
        {
          "output_type": "stream",
          "text": [
            "Episode: 99, Mean Reward: -12.076, Mean Loss: 0.003, Success Rate: 0.970 (100)\n"
          ],
          "name": "stdout"
        },
        {
          "output_type": "display_data",
          "data": {
            "image/png": "[encoded data removed]",
            "text/plain": [
              "<Figure size 432x288 with 1 Axes>"
            ]
          },
          "metadata": {
            "tags": []
          }
        }
      ]
    },
    {
      "cell_type": "code",
      "metadata": {
        "id": "1qTMiUtT7YJO",
        "colab_type": "code",
        "colab": {}
      },
      "source": [
        ""
      ],
      "execution_count": 0,
      "outputs": []
    }
  ]
}